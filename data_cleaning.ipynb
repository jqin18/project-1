{
 "cells": [
  {
   "cell_type": "code",
   "execution_count": 88,
   "metadata": {},
   "outputs": [
    {
     "data": {
      "text/html": [
       "<div>\n",
       "<style scoped>\n",
       "    .dataframe tbody tr th:only-of-type {\n",
       "        vertical-align: middle;\n",
       "    }\n",
       "\n",
       "    .dataframe tbody tr th {\n",
       "        vertical-align: top;\n",
       "    }\n",
       "\n",
       "    .dataframe thead th {\n",
       "        text-align: right;\n",
       "    }\n",
       "</style>\n",
       "<table border=\"1\" class=\"dataframe\">\n",
       "  <thead>\n",
       "    <tr style=\"text-align: right;\">\n",
       "      <th></th>\n",
       "      <th>trade_date</th>\n",
       "      <th>volume</th>\n",
       "      <th>price_usd</th>\n",
       "      <th>price_btc</th>\n",
       "      <th>market_cap</th>\n",
       "      <th>capitalization_change_1_day</th>\n",
       "      <th>USD_price_change_1_day</th>\n",
       "      <th>BTC_price_change_1_day</th>\n",
       "      <th>crypto_name</th>\n",
       "      <th>crypto_type</th>\n",
       "      <th>ticker</th>\n",
       "      <th>max_supply</th>\n",
       "      <th>site_url</th>\n",
       "      <th>github_url</th>\n",
       "      <th>minable</th>\n",
       "      <th>platform_name</th>\n",
       "      <th>industry_name</th>\n",
       "    </tr>\n",
       "  </thead>\n",
       "  <tbody>\n",
       "    <tr>\n",
       "      <th>0</th>\n",
       "      <td>2016-01-01</td>\n",
       "      <td>36278900.0</td>\n",
       "      <td>434.33</td>\n",
       "      <td>1.0</td>\n",
       "      <td>6.529300e+09</td>\n",
       "      <td>0.000000</td>\n",
       "      <td>0.000000</td>\n",
       "      <td>0.0</td>\n",
       "      <td>Bitcoin</td>\n",
       "      <td>0.0</td>\n",
       "      <td>BTC</td>\n",
       "      <td>21000000.0</td>\n",
       "      <td>https://bitcoin.org/</td>\n",
       "      <td>https://github.com/bitcoin/</td>\n",
       "      <td>1.0</td>\n",
       "      <td>XRP</td>\n",
       "      <td>Proof of Work (PoW)</td>\n",
       "    </tr>\n",
       "    <tr>\n",
       "      <th>1</th>\n",
       "      <td>2016-01-02</td>\n",
       "      <td>30096600.0</td>\n",
       "      <td>433.44</td>\n",
       "      <td>1.0</td>\n",
       "      <td>6.517390e+09</td>\n",
       "      <td>-0.001824</td>\n",
       "      <td>-0.002049</td>\n",
       "      <td>0.0</td>\n",
       "      <td>Bitcoin</td>\n",
       "      <td>0.0</td>\n",
       "      <td>BTC</td>\n",
       "      <td>21000000.0</td>\n",
       "      <td>https://bitcoin.org/</td>\n",
       "      <td>https://github.com/bitcoin/</td>\n",
       "      <td>1.0</td>\n",
       "      <td>XRP</td>\n",
       "      <td>Proof of Work (PoW)</td>\n",
       "    </tr>\n",
       "    <tr>\n",
       "      <th>2</th>\n",
       "      <td>2016-01-03</td>\n",
       "      <td>39633800.0</td>\n",
       "      <td>430.01</td>\n",
       "      <td>1.0</td>\n",
       "      <td>6.467430e+09</td>\n",
       "      <td>-0.007666</td>\n",
       "      <td>-0.007913</td>\n",
       "      <td>0.0</td>\n",
       "      <td>Bitcoin</td>\n",
       "      <td>0.0</td>\n",
       "      <td>BTC</td>\n",
       "      <td>21000000.0</td>\n",
       "      <td>https://bitcoin.org/</td>\n",
       "      <td>https://github.com/bitcoin/</td>\n",
       "      <td>1.0</td>\n",
       "      <td>XRP</td>\n",
       "      <td>Proof of Work (PoW)</td>\n",
       "    </tr>\n",
       "    <tr>\n",
       "      <th>3</th>\n",
       "      <td>2016-01-04</td>\n",
       "      <td>38477500.0</td>\n",
       "      <td>433.09</td>\n",
       "      <td>1.0</td>\n",
       "      <td>6.515713e+09</td>\n",
       "      <td>0.007466</td>\n",
       "      <td>0.007163</td>\n",
       "      <td>0.0</td>\n",
       "      <td>Bitcoin</td>\n",
       "      <td>0.0</td>\n",
       "      <td>BTC</td>\n",
       "      <td>21000000.0</td>\n",
       "      <td>https://bitcoin.org/</td>\n",
       "      <td>https://github.com/bitcoin/</td>\n",
       "      <td>1.0</td>\n",
       "      <td>XRP</td>\n",
       "      <td>Proof of Work (PoW)</td>\n",
       "    </tr>\n",
       "    <tr>\n",
       "      <th>4</th>\n",
       "      <td>2016-01-05</td>\n",
       "      <td>34522600.0</td>\n",
       "      <td>431.96</td>\n",
       "      <td>1.0</td>\n",
       "      <td>6.500393e+09</td>\n",
       "      <td>-0.002351</td>\n",
       "      <td>-0.002609</td>\n",
       "      <td>0.0</td>\n",
       "      <td>Bitcoin</td>\n",
       "      <td>0.0</td>\n",
       "      <td>BTC</td>\n",
       "      <td>21000000.0</td>\n",
       "      <td>https://bitcoin.org/</td>\n",
       "      <td>https://github.com/bitcoin/</td>\n",
       "      <td>1.0</td>\n",
       "      <td>XRP</td>\n",
       "      <td>Proof of Work (PoW)</td>\n",
       "    </tr>\n",
       "    <tr>\n",
       "      <th>5</th>\n",
       "      <td>2016-01-06</td>\n",
       "      <td>34042500.0</td>\n",
       "      <td>429.11</td>\n",
       "      <td>1.0</td>\n",
       "      <td>6.458942e+09</td>\n",
       "      <td>-0.006377</td>\n",
       "      <td>-0.006598</td>\n",
       "      <td>0.0</td>\n",
       "      <td>Bitcoin</td>\n",
       "      <td>0.0</td>\n",
       "      <td>BTC</td>\n",
       "      <td>21000000.0</td>\n",
       "      <td>https://bitcoin.org/</td>\n",
       "      <td>https://github.com/bitcoin/</td>\n",
       "      <td>1.0</td>\n",
       "      <td>XRP</td>\n",
       "      <td>Proof of Work (PoW)</td>\n",
       "    </tr>\n",
       "    <tr>\n",
       "      <th>6</th>\n",
       "      <td>2016-01-07</td>\n",
       "      <td>87562200.0</td>\n",
       "      <td>458.05</td>\n",
       "      <td>1.0</td>\n",
       "      <td>6.896279e+09</td>\n",
       "      <td>0.067710</td>\n",
       "      <td>0.067442</td>\n",
       "      <td>0.0</td>\n",
       "      <td>Bitcoin</td>\n",
       "      <td>0.0</td>\n",
       "      <td>BTC</td>\n",
       "      <td>21000000.0</td>\n",
       "      <td>https://bitcoin.org/</td>\n",
       "      <td>https://github.com/bitcoin/</td>\n",
       "      <td>1.0</td>\n",
       "      <td>XRP</td>\n",
       "      <td>Proof of Work (PoW)</td>\n",
       "    </tr>\n",
       "    <tr>\n",
       "      <th>7</th>\n",
       "      <td>2016-01-08</td>\n",
       "      <td>56993000.0</td>\n",
       "      <td>453.23</td>\n",
       "      <td>1.0</td>\n",
       "      <td>6.825700e+09</td>\n",
       "      <td>-0.010234</td>\n",
       "      <td>-0.010523</td>\n",
       "      <td>0.0</td>\n",
       "      <td>Bitcoin</td>\n",
       "      <td>0.0</td>\n",
       "      <td>BTC</td>\n",
       "      <td>21000000.0</td>\n",
       "      <td>https://bitcoin.org/</td>\n",
       "      <td>https://github.com/bitcoin/</td>\n",
       "      <td>1.0</td>\n",
       "      <td>XRP</td>\n",
       "      <td>Proof of Work (PoW)</td>\n",
       "    </tr>\n",
       "    <tr>\n",
       "      <th>8</th>\n",
       "      <td>2016-01-09</td>\n",
       "      <td>32278000.0</td>\n",
       "      <td>447.61</td>\n",
       "      <td>1.0</td>\n",
       "      <td>6.742767e+09</td>\n",
       "      <td>-0.012150</td>\n",
       "      <td>-0.012400</td>\n",
       "      <td>0.0</td>\n",
       "      <td>Bitcoin</td>\n",
       "      <td>0.0</td>\n",
       "      <td>BTC</td>\n",
       "      <td>21000000.0</td>\n",
       "      <td>https://bitcoin.org/</td>\n",
       "      <td>https://github.com/bitcoin/</td>\n",
       "      <td>1.0</td>\n",
       "      <td>XRP</td>\n",
       "      <td>Proof of Work (PoW)</td>\n",
       "    </tr>\n",
       "    <tr>\n",
       "      <th>9</th>\n",
       "      <td>2016-01-10</td>\n",
       "      <td>35995900.0</td>\n",
       "      <td>447.99</td>\n",
       "      <td>1.0</td>\n",
       "      <td>6.750440e+09</td>\n",
       "      <td>0.001138</td>\n",
       "      <td>0.000849</td>\n",
       "      <td>0.0</td>\n",
       "      <td>Bitcoin</td>\n",
       "      <td>0.0</td>\n",
       "      <td>BTC</td>\n",
       "      <td>21000000.0</td>\n",
       "      <td>https://bitcoin.org/</td>\n",
       "      <td>https://github.com/bitcoin/</td>\n",
       "      <td>1.0</td>\n",
       "      <td>XRP</td>\n",
       "      <td>Proof of Work (PoW)</td>\n",
       "    </tr>\n",
       "  </tbody>\n",
       "</table>\n",
       "</div>"
      ],
      "text/plain": [
       "   trade_date      volume  price_usd  price_btc    market_cap  \\\n",
       "0  2016-01-01  36278900.0     434.33        1.0  6.529300e+09   \n",
       "1  2016-01-02  30096600.0     433.44        1.0  6.517390e+09   \n",
       "2  2016-01-03  39633800.0     430.01        1.0  6.467430e+09   \n",
       "3  2016-01-04  38477500.0     433.09        1.0  6.515713e+09   \n",
       "4  2016-01-05  34522600.0     431.96        1.0  6.500393e+09   \n",
       "5  2016-01-06  34042500.0     429.11        1.0  6.458942e+09   \n",
       "6  2016-01-07  87562200.0     458.05        1.0  6.896279e+09   \n",
       "7  2016-01-08  56993000.0     453.23        1.0  6.825700e+09   \n",
       "8  2016-01-09  32278000.0     447.61        1.0  6.742767e+09   \n",
       "9  2016-01-10  35995900.0     447.99        1.0  6.750440e+09   \n",
       "\n",
       "   capitalization_change_1_day  USD_price_change_1_day  \\\n",
       "0                     0.000000                0.000000   \n",
       "1                    -0.001824               -0.002049   \n",
       "2                    -0.007666               -0.007913   \n",
       "3                     0.007466                0.007163   \n",
       "4                    -0.002351               -0.002609   \n",
       "5                    -0.006377               -0.006598   \n",
       "6                     0.067710                0.067442   \n",
       "7                    -0.010234               -0.010523   \n",
       "8                    -0.012150               -0.012400   \n",
       "9                     0.001138                0.000849   \n",
       "\n",
       "   BTC_price_change_1_day crypto_name  crypto_type ticker  max_supply  \\\n",
       "0                     0.0     Bitcoin          0.0    BTC  21000000.0   \n",
       "1                     0.0     Bitcoin          0.0    BTC  21000000.0   \n",
       "2                     0.0     Bitcoin          0.0    BTC  21000000.0   \n",
       "3                     0.0     Bitcoin          0.0    BTC  21000000.0   \n",
       "4                     0.0     Bitcoin          0.0    BTC  21000000.0   \n",
       "5                     0.0     Bitcoin          0.0    BTC  21000000.0   \n",
       "6                     0.0     Bitcoin          0.0    BTC  21000000.0   \n",
       "7                     0.0     Bitcoin          0.0    BTC  21000000.0   \n",
       "8                     0.0     Bitcoin          0.0    BTC  21000000.0   \n",
       "9                     0.0     Bitcoin          0.0    BTC  21000000.0   \n",
       "\n",
       "               site_url                   github_url  minable platform_name  \\\n",
       "0  https://bitcoin.org/  https://github.com/bitcoin/      1.0           XRP   \n",
       "1  https://bitcoin.org/  https://github.com/bitcoin/      1.0           XRP   \n",
       "2  https://bitcoin.org/  https://github.com/bitcoin/      1.0           XRP   \n",
       "3  https://bitcoin.org/  https://github.com/bitcoin/      1.0           XRP   \n",
       "4  https://bitcoin.org/  https://github.com/bitcoin/      1.0           XRP   \n",
       "5  https://bitcoin.org/  https://github.com/bitcoin/      1.0           XRP   \n",
       "6  https://bitcoin.org/  https://github.com/bitcoin/      1.0           XRP   \n",
       "7  https://bitcoin.org/  https://github.com/bitcoin/      1.0           XRP   \n",
       "8  https://bitcoin.org/  https://github.com/bitcoin/      1.0           XRP   \n",
       "9  https://bitcoin.org/  https://github.com/bitcoin/      1.0           XRP   \n",
       "\n",
       "         industry_name  \n",
       "0  Proof of Work (PoW)  \n",
       "1  Proof of Work (PoW)  \n",
       "2  Proof of Work (PoW)  \n",
       "3  Proof of Work (PoW)  \n",
       "4  Proof of Work (PoW)  \n",
       "5  Proof of Work (PoW)  \n",
       "6  Proof of Work (PoW)  \n",
       "7  Proof of Work (PoW)  \n",
       "8  Proof of Work (PoW)  \n",
       "9  Proof of Work (PoW)  "
      ]
     },
     "execution_count": 88,
     "metadata": {},
     "output_type": "execute_result"
    }
   ],
   "source": [
    "# Dependencies and Setup\n",
    "import matplotlib.pyplot as plt\n",
    "import pandas as pd\n",
    "import scipy.stats as st\n",
    "import numpy as np\n",
    "from scipy.stats import linregress\n",
    "\n",
    "\n",
    "crypto_path = \"resources/crypto_tradinds.csv\"\n",
    "gold_path = \"resources/gold_monthly_csv.csv\"\n",
    "\n",
    "crypto_data = pd.read_csv(crypto_path,low_memory=False)\n",
    "gold_data = pd.read_csv(gold_path)\n",
    "\n",
    "crypto_data.head(10)"
   ]
  },
  {
   "cell_type": "code",
   "execution_count": 89,
   "metadata": {},
   "outputs": [
    {
     "data": {
      "text/html": [
       "<div>\n",
       "<style scoped>\n",
       "    .dataframe tbody tr th:only-of-type {\n",
       "        vertical-align: middle;\n",
       "    }\n",
       "\n",
       "    .dataframe tbody tr th {\n",
       "        vertical-align: top;\n",
       "    }\n",
       "\n",
       "    .dataframe thead th {\n",
       "        text-align: right;\n",
       "    }\n",
       "</style>\n",
       "<table border=\"1\" class=\"dataframe\">\n",
       "  <thead>\n",
       "    <tr style=\"text-align: right;\">\n",
       "      <th></th>\n",
       "      <th>trade_date</th>\n",
       "      <th>volume</th>\n",
       "      <th>price_usd</th>\n",
       "      <th>market_cap</th>\n",
       "      <th>capitalization_change_1_day</th>\n",
       "      <th>USD_price_change_1_day</th>\n",
       "      <th>crypto_name</th>\n",
       "      <th>crypto_type</th>\n",
       "      <th>ticker</th>\n",
       "      <th>minable</th>\n",
       "    </tr>\n",
       "  </thead>\n",
       "  <tbody>\n",
       "    <tr>\n",
       "      <th>0</th>\n",
       "      <td>2016-01-01</td>\n",
       "      <td>36278900.0</td>\n",
       "      <td>434.33</td>\n",
       "      <td>6.529300e+09</td>\n",
       "      <td>0.000000</td>\n",
       "      <td>0.000000</td>\n",
       "      <td>Bitcoin</td>\n",
       "      <td>0.0</td>\n",
       "      <td>BTC</td>\n",
       "      <td>1.0</td>\n",
       "    </tr>\n",
       "    <tr>\n",
       "      <th>1</th>\n",
       "      <td>2016-01-02</td>\n",
       "      <td>30096600.0</td>\n",
       "      <td>433.44</td>\n",
       "      <td>6.517390e+09</td>\n",
       "      <td>-0.001824</td>\n",
       "      <td>-0.002049</td>\n",
       "      <td>Bitcoin</td>\n",
       "      <td>0.0</td>\n",
       "      <td>BTC</td>\n",
       "      <td>1.0</td>\n",
       "    </tr>\n",
       "    <tr>\n",
       "      <th>2</th>\n",
       "      <td>2016-01-03</td>\n",
       "      <td>39633800.0</td>\n",
       "      <td>430.01</td>\n",
       "      <td>6.467430e+09</td>\n",
       "      <td>-0.007666</td>\n",
       "      <td>-0.007913</td>\n",
       "      <td>Bitcoin</td>\n",
       "      <td>0.0</td>\n",
       "      <td>BTC</td>\n",
       "      <td>1.0</td>\n",
       "    </tr>\n",
       "    <tr>\n",
       "      <th>3</th>\n",
       "      <td>2016-01-04</td>\n",
       "      <td>38477500.0</td>\n",
       "      <td>433.09</td>\n",
       "      <td>6.515713e+09</td>\n",
       "      <td>0.007466</td>\n",
       "      <td>0.007163</td>\n",
       "      <td>Bitcoin</td>\n",
       "      <td>0.0</td>\n",
       "      <td>BTC</td>\n",
       "      <td>1.0</td>\n",
       "    </tr>\n",
       "    <tr>\n",
       "      <th>4</th>\n",
       "      <td>2016-01-05</td>\n",
       "      <td>34522600.0</td>\n",
       "      <td>431.96</td>\n",
       "      <td>6.500393e+09</td>\n",
       "      <td>-0.002351</td>\n",
       "      <td>-0.002609</td>\n",
       "      <td>Bitcoin</td>\n",
       "      <td>0.0</td>\n",
       "      <td>BTC</td>\n",
       "      <td>1.0</td>\n",
       "    </tr>\n",
       "    <tr>\n",
       "      <th>5</th>\n",
       "      <td>2016-01-06</td>\n",
       "      <td>34042500.0</td>\n",
       "      <td>429.11</td>\n",
       "      <td>6.458942e+09</td>\n",
       "      <td>-0.006377</td>\n",
       "      <td>-0.006598</td>\n",
       "      <td>Bitcoin</td>\n",
       "      <td>0.0</td>\n",
       "      <td>BTC</td>\n",
       "      <td>1.0</td>\n",
       "    </tr>\n",
       "    <tr>\n",
       "      <th>6</th>\n",
       "      <td>2016-01-07</td>\n",
       "      <td>87562200.0</td>\n",
       "      <td>458.05</td>\n",
       "      <td>6.896279e+09</td>\n",
       "      <td>0.067710</td>\n",
       "      <td>0.067442</td>\n",
       "      <td>Bitcoin</td>\n",
       "      <td>0.0</td>\n",
       "      <td>BTC</td>\n",
       "      <td>1.0</td>\n",
       "    </tr>\n",
       "    <tr>\n",
       "      <th>7</th>\n",
       "      <td>2016-01-08</td>\n",
       "      <td>56993000.0</td>\n",
       "      <td>453.23</td>\n",
       "      <td>6.825700e+09</td>\n",
       "      <td>-0.010234</td>\n",
       "      <td>-0.010523</td>\n",
       "      <td>Bitcoin</td>\n",
       "      <td>0.0</td>\n",
       "      <td>BTC</td>\n",
       "      <td>1.0</td>\n",
       "    </tr>\n",
       "    <tr>\n",
       "      <th>8</th>\n",
       "      <td>2016-01-09</td>\n",
       "      <td>32278000.0</td>\n",
       "      <td>447.61</td>\n",
       "      <td>6.742767e+09</td>\n",
       "      <td>-0.012150</td>\n",
       "      <td>-0.012400</td>\n",
       "      <td>Bitcoin</td>\n",
       "      <td>0.0</td>\n",
       "      <td>BTC</td>\n",
       "      <td>1.0</td>\n",
       "    </tr>\n",
       "    <tr>\n",
       "      <th>9</th>\n",
       "      <td>2016-01-10</td>\n",
       "      <td>35995900.0</td>\n",
       "      <td>447.99</td>\n",
       "      <td>6.750440e+09</td>\n",
       "      <td>0.001138</td>\n",
       "      <td>0.000849</td>\n",
       "      <td>Bitcoin</td>\n",
       "      <td>0.0</td>\n",
       "      <td>BTC</td>\n",
       "      <td>1.0</td>\n",
       "    </tr>\n",
       "  </tbody>\n",
       "</table>\n",
       "</div>"
      ],
      "text/plain": [
       "   trade_date      volume  price_usd    market_cap  \\\n",
       "0  2016-01-01  36278900.0     434.33  6.529300e+09   \n",
       "1  2016-01-02  30096600.0     433.44  6.517390e+09   \n",
       "2  2016-01-03  39633800.0     430.01  6.467430e+09   \n",
       "3  2016-01-04  38477500.0     433.09  6.515713e+09   \n",
       "4  2016-01-05  34522600.0     431.96  6.500393e+09   \n",
       "5  2016-01-06  34042500.0     429.11  6.458942e+09   \n",
       "6  2016-01-07  87562200.0     458.05  6.896279e+09   \n",
       "7  2016-01-08  56993000.0     453.23  6.825700e+09   \n",
       "8  2016-01-09  32278000.0     447.61  6.742767e+09   \n",
       "9  2016-01-10  35995900.0     447.99  6.750440e+09   \n",
       "\n",
       "   capitalization_change_1_day  USD_price_change_1_day crypto_name  \\\n",
       "0                     0.000000                0.000000     Bitcoin   \n",
       "1                    -0.001824               -0.002049     Bitcoin   \n",
       "2                    -0.007666               -0.007913     Bitcoin   \n",
       "3                     0.007466                0.007163     Bitcoin   \n",
       "4                    -0.002351               -0.002609     Bitcoin   \n",
       "5                    -0.006377               -0.006598     Bitcoin   \n",
       "6                     0.067710                0.067442     Bitcoin   \n",
       "7                    -0.010234               -0.010523     Bitcoin   \n",
       "8                    -0.012150               -0.012400     Bitcoin   \n",
       "9                     0.001138                0.000849     Bitcoin   \n",
       "\n",
       "   crypto_type ticker  minable  \n",
       "0          0.0    BTC      1.0  \n",
       "1          0.0    BTC      1.0  \n",
       "2          0.0    BTC      1.0  \n",
       "3          0.0    BTC      1.0  \n",
       "4          0.0    BTC      1.0  \n",
       "5          0.0    BTC      1.0  \n",
       "6          0.0    BTC      1.0  \n",
       "7          0.0    BTC      1.0  \n",
       "8          0.0    BTC      1.0  \n",
       "9          0.0    BTC      1.0  "
      ]
     },
     "execution_count": 89,
     "metadata": {},
     "output_type": "execute_result"
    }
   ],
   "source": [
    "#cleaning the data\n",
    "\n",
    "#remove irrelavant columns\n",
    "\n",
    "crypto_data_1 = crypto_data[[\"trade_date\", \"volume\", \"price_usd\", \"market_cap\", \"capitalization_change_1_day\", \"USD_price_change_1_day\", \"crypto_name\", \"crypto_type\", \"ticker\", \"minable\" ]]\n",
    "crypto_data_1.head(10)"
   ]
  },
  {
   "cell_type": "code",
   "execution_count": 90,
   "metadata": {},
   "outputs": [
    {
     "data": {
      "text/plain": [
       "trade_date                     2382643\n",
       "volume                         2382643\n",
       "price_usd                      2382643\n",
       "market_cap                     2382643\n",
       "capitalization_change_1_day    2382643\n",
       "USD_price_change_1_day         2382643\n",
       "crypto_name                    2223794\n",
       "crypto_type                    2223794\n",
       "ticker                         2223794\n",
       "minable                        2223794\n",
       "dtype: int64"
      ]
     },
     "execution_count": 90,
     "metadata": {},
     "output_type": "execute_result"
    }
   ],
   "source": [
    "#check for any null values\n",
    "crypto_data_1.count()"
   ]
  },
  {
   "cell_type": "code",
   "execution_count": 91,
   "metadata": {},
   "outputs": [
    {
     "data": {
      "text/plain": [
       "trade_date                     2223794\n",
       "volume                         2223794\n",
       "price_usd                      2223794\n",
       "market_cap                     2223794\n",
       "capitalization_change_1_day    2223794\n",
       "USD_price_change_1_day         2223794\n",
       "crypto_name                    2223794\n",
       "crypto_type                    2223794\n",
       "ticker                         2223794\n",
       "minable                        2223794\n",
       "dtype: int64"
      ]
     },
     "execution_count": 91,
     "metadata": {},
     "output_type": "execute_result"
    }
   ],
   "source": [
    "#drop null values\n",
    "\n",
    "no_null_crypto_data_1 = crypto_data_1.dropna(how='any')\n",
    "\n",
    "no_null_crypto_data_1.count()"
   ]
  },
  {
   "cell_type": "code",
   "execution_count": 92,
   "metadata": {},
   "outputs": [
    {
     "name": "stderr",
     "output_type": "stream",
     "text": [
      "/Users/jadeqin/opt/anaconda3/lib/python3.8/site-packages/pandas/core/frame.py:3191: SettingWithCopyWarning: \n",
      "A value is trying to be set on a copy of a slice from a DataFrame.\n",
      "Try using .loc[row_indexer,col_indexer] = value instead\n",
      "\n",
      "See the caveats in the documentation: https://pandas.pydata.org/pandas-docs/stable/user_guide/indexing.html#returning-a-view-versus-a-copy\n",
      "  self[k1] = value[k2]\n"
     ]
    },
    {
     "data": {
      "text/html": [
       "<div>\n",
       "<style scoped>\n",
       "    .dataframe tbody tr th:only-of-type {\n",
       "        vertical-align: middle;\n",
       "    }\n",
       "\n",
       "    .dataframe tbody tr th {\n",
       "        vertical-align: top;\n",
       "    }\n",
       "\n",
       "    .dataframe thead th {\n",
       "        text-align: right;\n",
       "    }\n",
       "</style>\n",
       "<table border=\"1\" class=\"dataframe\">\n",
       "  <thead>\n",
       "    <tr style=\"text-align: right;\">\n",
       "      <th></th>\n",
       "      <th>trade_date</th>\n",
       "      <th>volume</th>\n",
       "      <th>price_usd</th>\n",
       "      <th>market_cap</th>\n",
       "      <th>capitalization_change_1_day</th>\n",
       "      <th>USD_price_change_1_day</th>\n",
       "      <th>crypto_name</th>\n",
       "      <th>crypto_type</th>\n",
       "      <th>ticker</th>\n",
       "      <th>minable</th>\n",
       "      <th>trade_year</th>\n",
       "      <th>trade_month</th>\n",
       "      <th>trade_day</th>\n",
       "    </tr>\n",
       "  </thead>\n",
       "  <tbody>\n",
       "    <tr>\n",
       "      <th>0</th>\n",
       "      <td>2016-01-01</td>\n",
       "      <td>36278900.0</td>\n",
       "      <td>434.33</td>\n",
       "      <td>6.529300e+09</td>\n",
       "      <td>0.000000</td>\n",
       "      <td>0.000000</td>\n",
       "      <td>Bitcoin</td>\n",
       "      <td>0.0</td>\n",
       "      <td>BTC</td>\n",
       "      <td>1.0</td>\n",
       "      <td>2016</td>\n",
       "      <td>01</td>\n",
       "      <td>01</td>\n",
       "    </tr>\n",
       "    <tr>\n",
       "      <th>1</th>\n",
       "      <td>2016-01-02</td>\n",
       "      <td>30096600.0</td>\n",
       "      <td>433.44</td>\n",
       "      <td>6.517390e+09</td>\n",
       "      <td>-0.001824</td>\n",
       "      <td>-0.002049</td>\n",
       "      <td>Bitcoin</td>\n",
       "      <td>0.0</td>\n",
       "      <td>BTC</td>\n",
       "      <td>1.0</td>\n",
       "      <td>2016</td>\n",
       "      <td>01</td>\n",
       "      <td>02</td>\n",
       "    </tr>\n",
       "    <tr>\n",
       "      <th>2</th>\n",
       "      <td>2016-01-03</td>\n",
       "      <td>39633800.0</td>\n",
       "      <td>430.01</td>\n",
       "      <td>6.467430e+09</td>\n",
       "      <td>-0.007666</td>\n",
       "      <td>-0.007913</td>\n",
       "      <td>Bitcoin</td>\n",
       "      <td>0.0</td>\n",
       "      <td>BTC</td>\n",
       "      <td>1.0</td>\n",
       "      <td>2016</td>\n",
       "      <td>01</td>\n",
       "      <td>03</td>\n",
       "    </tr>\n",
       "    <tr>\n",
       "      <th>3</th>\n",
       "      <td>2016-01-04</td>\n",
       "      <td>38477500.0</td>\n",
       "      <td>433.09</td>\n",
       "      <td>6.515713e+09</td>\n",
       "      <td>0.007466</td>\n",
       "      <td>0.007163</td>\n",
       "      <td>Bitcoin</td>\n",
       "      <td>0.0</td>\n",
       "      <td>BTC</td>\n",
       "      <td>1.0</td>\n",
       "      <td>2016</td>\n",
       "      <td>01</td>\n",
       "      <td>04</td>\n",
       "    </tr>\n",
       "    <tr>\n",
       "      <th>4</th>\n",
       "      <td>2016-01-05</td>\n",
       "      <td>34522600.0</td>\n",
       "      <td>431.96</td>\n",
       "      <td>6.500393e+09</td>\n",
       "      <td>-0.002351</td>\n",
       "      <td>-0.002609</td>\n",
       "      <td>Bitcoin</td>\n",
       "      <td>0.0</td>\n",
       "      <td>BTC</td>\n",
       "      <td>1.0</td>\n",
       "      <td>2016</td>\n",
       "      <td>01</td>\n",
       "      <td>05</td>\n",
       "    </tr>\n",
       "    <tr>\n",
       "      <th>5</th>\n",
       "      <td>2016-01-06</td>\n",
       "      <td>34042500.0</td>\n",
       "      <td>429.11</td>\n",
       "      <td>6.458942e+09</td>\n",
       "      <td>-0.006377</td>\n",
       "      <td>-0.006598</td>\n",
       "      <td>Bitcoin</td>\n",
       "      <td>0.0</td>\n",
       "      <td>BTC</td>\n",
       "      <td>1.0</td>\n",
       "      <td>2016</td>\n",
       "      <td>01</td>\n",
       "      <td>06</td>\n",
       "    </tr>\n",
       "    <tr>\n",
       "      <th>6</th>\n",
       "      <td>2016-01-07</td>\n",
       "      <td>87562200.0</td>\n",
       "      <td>458.05</td>\n",
       "      <td>6.896279e+09</td>\n",
       "      <td>0.067710</td>\n",
       "      <td>0.067442</td>\n",
       "      <td>Bitcoin</td>\n",
       "      <td>0.0</td>\n",
       "      <td>BTC</td>\n",
       "      <td>1.0</td>\n",
       "      <td>2016</td>\n",
       "      <td>01</td>\n",
       "      <td>07</td>\n",
       "    </tr>\n",
       "    <tr>\n",
       "      <th>7</th>\n",
       "      <td>2016-01-08</td>\n",
       "      <td>56993000.0</td>\n",
       "      <td>453.23</td>\n",
       "      <td>6.825700e+09</td>\n",
       "      <td>-0.010234</td>\n",
       "      <td>-0.010523</td>\n",
       "      <td>Bitcoin</td>\n",
       "      <td>0.0</td>\n",
       "      <td>BTC</td>\n",
       "      <td>1.0</td>\n",
       "      <td>2016</td>\n",
       "      <td>01</td>\n",
       "      <td>08</td>\n",
       "    </tr>\n",
       "    <tr>\n",
       "      <th>8</th>\n",
       "      <td>2016-01-09</td>\n",
       "      <td>32278000.0</td>\n",
       "      <td>447.61</td>\n",
       "      <td>6.742767e+09</td>\n",
       "      <td>-0.012150</td>\n",
       "      <td>-0.012400</td>\n",
       "      <td>Bitcoin</td>\n",
       "      <td>0.0</td>\n",
       "      <td>BTC</td>\n",
       "      <td>1.0</td>\n",
       "      <td>2016</td>\n",
       "      <td>01</td>\n",
       "      <td>09</td>\n",
       "    </tr>\n",
       "    <tr>\n",
       "      <th>9</th>\n",
       "      <td>2016-01-10</td>\n",
       "      <td>35995900.0</td>\n",
       "      <td>447.99</td>\n",
       "      <td>6.750440e+09</td>\n",
       "      <td>0.001138</td>\n",
       "      <td>0.000849</td>\n",
       "      <td>Bitcoin</td>\n",
       "      <td>0.0</td>\n",
       "      <td>BTC</td>\n",
       "      <td>1.0</td>\n",
       "      <td>2016</td>\n",
       "      <td>01</td>\n",
       "      <td>10</td>\n",
       "    </tr>\n",
       "  </tbody>\n",
       "</table>\n",
       "</div>"
      ],
      "text/plain": [
       "   trade_date      volume  price_usd    market_cap  \\\n",
       "0  2016-01-01  36278900.0     434.33  6.529300e+09   \n",
       "1  2016-01-02  30096600.0     433.44  6.517390e+09   \n",
       "2  2016-01-03  39633800.0     430.01  6.467430e+09   \n",
       "3  2016-01-04  38477500.0     433.09  6.515713e+09   \n",
       "4  2016-01-05  34522600.0     431.96  6.500393e+09   \n",
       "5  2016-01-06  34042500.0     429.11  6.458942e+09   \n",
       "6  2016-01-07  87562200.0     458.05  6.896279e+09   \n",
       "7  2016-01-08  56993000.0     453.23  6.825700e+09   \n",
       "8  2016-01-09  32278000.0     447.61  6.742767e+09   \n",
       "9  2016-01-10  35995900.0     447.99  6.750440e+09   \n",
       "\n",
       "   capitalization_change_1_day  USD_price_change_1_day crypto_name  \\\n",
       "0                     0.000000                0.000000     Bitcoin   \n",
       "1                    -0.001824               -0.002049     Bitcoin   \n",
       "2                    -0.007666               -0.007913     Bitcoin   \n",
       "3                     0.007466                0.007163     Bitcoin   \n",
       "4                    -0.002351               -0.002609     Bitcoin   \n",
       "5                    -0.006377               -0.006598     Bitcoin   \n",
       "6                     0.067710                0.067442     Bitcoin   \n",
       "7                    -0.010234               -0.010523     Bitcoin   \n",
       "8                    -0.012150               -0.012400     Bitcoin   \n",
       "9                     0.001138                0.000849     Bitcoin   \n",
       "\n",
       "   crypto_type ticker  minable trade_year trade_month trade_day  \n",
       "0          0.0    BTC      1.0       2016          01        01  \n",
       "1          0.0    BTC      1.0       2016          01        02  \n",
       "2          0.0    BTC      1.0       2016          01        03  \n",
       "3          0.0    BTC      1.0       2016          01        04  \n",
       "4          0.0    BTC      1.0       2016          01        05  \n",
       "5          0.0    BTC      1.0       2016          01        06  \n",
       "6          0.0    BTC      1.0       2016          01        07  \n",
       "7          0.0    BTC      1.0       2016          01        08  \n",
       "8          0.0    BTC      1.0       2016          01        09  \n",
       "9          0.0    BTC      1.0       2016          01        10  "
      ]
     },
     "execution_count": 92,
     "metadata": {},
     "output_type": "execute_result"
    }
   ],
   "source": [
    "#split the date by year, month, day for each column\n",
    "\n",
    "no_null_crypto_data_1[['trade_year', 'trade_month', 'trade_day']] = no_null_crypto_data_1['trade_date'].str.split('-', expand=True)\n",
    "no_null_crypto_data_1.head(10)"
   ]
  },
  {
   "cell_type": "code",
   "execution_count": 45,
   "metadata": {},
   "outputs": [],
   "source": [
    "# Create new DataFrames that looks into a specific crypto\n",
    "Bitcoin_data = no_null_crypto_data_1.loc[no_null_crypto_data_1[\"crypto_name\"] == \"Bitcoin\"]\n",
    "Ethereum_data = no_null_crypto_data_1.loc[no_null_crypto_data_1[\"crypto_name\"] == \"Ethereum\"]\n",
    "Dogecoin_data = no_null_crypto_data_1.loc[no_null_crypto_data_1[\"crypto_name\"] == \"Dogecoin\"]\n",
    "Stellar_data = no_null_crypto_data_1.loc[no_null_crypto_data_1[\"crypto_name\"] == \"Stellar\"]"
   ]
  },
  {
   "cell_type": "code",
   "execution_count": null,
   "metadata": {},
   "outputs": [],
   "source": [
    "##Bitcoin"
   ]
  },
  {
   "cell_type": "code",
   "execution_count": 46,
   "metadata": {},
   "outputs": [
    {
     "data": {
      "text/html": [
       "<div>\n",
       "<style scoped>\n",
       "    .dataframe tbody tr th:only-of-type {\n",
       "        vertical-align: middle;\n",
       "    }\n",
       "\n",
       "    .dataframe tbody tr th {\n",
       "        vertical-align: top;\n",
       "    }\n",
       "\n",
       "    .dataframe thead th {\n",
       "        text-align: right;\n",
       "    }\n",
       "</style>\n",
       "<table border=\"1\" class=\"dataframe\">\n",
       "  <thead>\n",
       "    <tr style=\"text-align: right;\">\n",
       "      <th></th>\n",
       "      <th>Average Market Cap</th>\n",
       "      <th>Average Price</th>\n",
       "      <th>Total Volume</th>\n",
       "    </tr>\n",
       "    <tr>\n",
       "      <th>trade_year</th>\n",
       "      <th></th>\n",
       "      <th></th>\n",
       "      <th></th>\n",
       "    </tr>\n",
       "  </thead>\n",
       "  <tbody>\n",
       "    <tr>\n",
       "      <th>2016</th>\n",
       "      <td>8.929758e+09</td>\n",
       "      <td>568.492213</td>\n",
       "      <td>3.144837e+10</td>\n",
       "    </tr>\n",
       "    <tr>\n",
       "      <th>2017</th>\n",
       "      <td>6.645752e+10</td>\n",
       "      <td>4006.033616</td>\n",
       "      <td>8.697464e+11</td>\n",
       "    </tr>\n",
       "    <tr>\n",
       "      <th>2018</th>\n",
       "      <td>1.292673e+11</td>\n",
       "      <td>7572.298877</td>\n",
       "      <td>2.213197e+12</td>\n",
       "    </tr>\n",
       "    <tr>\n",
       "      <th>2019</th>\n",
       "      <td>1.306618e+11</td>\n",
       "      <td>7324.709093</td>\n",
       "      <td>5.884878e+12</td>\n",
       "    </tr>\n",
       "    <tr>\n",
       "      <th>2020</th>\n",
       "      <td>1.741145e+11</td>\n",
       "      <td>9472.949057</td>\n",
       "      <td>9.179893e+12</td>\n",
       "    </tr>\n",
       "  </tbody>\n",
       "</table>\n",
       "</div>"
      ],
      "text/plain": [
       "            Average Market Cap  Average Price  Total Volume\n",
       "trade_year                                                 \n",
       "2016              8.929758e+09     568.492213  3.144837e+10\n",
       "2017              6.645752e+10    4006.033616  8.697464e+11\n",
       "2018              1.292673e+11    7572.298877  2.213197e+12\n",
       "2019              1.306618e+11    7324.709093  5.884878e+12\n",
       "2020              1.741145e+11    9472.949057  9.179893e+12"
      ]
     },
     "execution_count": 46,
     "metadata": {},
     "output_type": "execute_result"
    }
   ],
   "source": [
    "#yearly performance of Bitcoin \n",
    "\n",
    "Bitcoin_data = Bitcoin_data.groupby(\"trade_year\")\n",
    "\n",
    "average_price = Bitcoin_data[\"price_usd\"].mean()\n",
    "\n",
    "average_marketcap = Bitcoin_data[\"market_cap\"].mean()\n",
    "\n",
    "total_volume = Bitcoin_data[\"volume\"].sum()\n",
    "\n",
    "\n",
    "yearly_performace_Bitcoin = pd.DataFrame({\"Average Market Cap\": average_marketcap,\n",
    "\"Average Price\": average_price, \"Total Volume\" : total_volume})\n",
    "\n",
    "yearly_performace_Bitcoin\n"
   ]
  },
  {
   "cell_type": "code",
   "execution_count": 52,
   "metadata": {},
   "outputs": [
    {
     "data": {
      "image/png": "[encoded data removed]",
      "text/plain": [
       "<Figure size 432x288 with 1 Axes>"
      ]
     },
     "metadata": {
      "needs_background": "light"
     },
     "output_type": "display_data"
    }
   ],
   "source": [
    "#plot some graphs (line graph)\n",
    "\n",
    "year_v_ap = average_price.plot(kind=\"line\", title=\"Yearly change in Bitcoin average price (USD)\")\n",
    "\n",
    "plt.show()\n"
   ]
  },
  {
   "cell_type": "code",
   "execution_count": 53,
   "metadata": {},
   "outputs": [
    {
     "data": {
      "image/png": "[encoded data removed]",
      "text/plain": [
       "<Figure size 432x288 with 1 Axes>"
      ]
     },
     "metadata": {
      "needs_background": "light"
     },
     "output_type": "display_data"
    }
   ],
   "source": [
    "#market cap (is the total value of the cryptocurrency), calculated by multiplying price of the cryptocurrency with the number of coins in circulation.\n",
    "\n",
    "year_v_am = average_marketcap.plot(kind=\"line\", title=\"Yearly change in Bitcoin average market cap\") \n",
    "\n",
    "plt.show()\n",
    "\n",
    "#the 1e11 is the standard scientific notion, and here it indicates an overall scale factor for the y-axis, the acutal value for the y axis shoud be \n",
    "#whatever the number on the y-axis, 1.00 *1e11 = 1 * 10^11 = 100,000,000,000"
   ]
  },
  {
   "cell_type": "code",
   "execution_count": 54,
   "metadata": {},
   "outputs": [
    {
     "data": {
      "image/png": "[encoded data removed]",
      "text/plain": [
       "<Figure size 432x288 with 1 Axes>"
      ]
     },
     "metadata": {
      "needs_background": "light"
     },
     "output_type": "display_data"
    }
   ],
   "source": [
    "#total volume\n",
    "\n",
    "year_v_tv = total_volume.plot(kind=\"line\", title=\"Yearly change in Bitcoin total vloume\")\n",
    "\n",
    "plt.show()"
   ]
  },
  {
   "cell_type": "code",
   "execution_count": 55,
   "metadata": {},
   "outputs": [],
   "source": [
    "##Ethrium"
   ]
  },
  {
   "cell_type": "code",
   "execution_count": 56,
   "metadata": {},
   "outputs": [],
   "source": [
    "Ethereum_data = no_null_crypto_data_1.loc[no_null_crypto_data_1[\"crypto_name\"] == \"Ethereum\"]\n",
    "\n",
    "Ethereum_data = Ethereum_data.groupby(\"trade_year\")\n"
   ]
  },
  {
   "cell_type": "code",
   "execution_count": 57,
   "metadata": {},
   "outputs": [
    {
     "data": {
      "image/png": "[encoded data removed]",
      "text/plain": [
       "<Figure size 432x288 with 1 Axes>"
      ]
     },
     "metadata": {
      "needs_background": "light"
     },
     "output_type": "display_data"
    }
   ],
   "source": [
    "average_price = Ethereum_data[\"price_usd\"].mean()\n",
    "\n",
    "year_v_ap = average_price.plot(kind=\"line\", title=\"Yearly change in Ethereum average price (USD)\")\n",
    "\n",
    "plt.show()"
   ]
  },
  {
   "cell_type": "code",
   "execution_count": 59,
   "metadata": {},
   "outputs": [
    {
     "data": {
      "image/png": "[encoded data removed]",
      "text/plain": [
       "<Figure size 432x288 with 1 Axes>"
      ]
     },
     "metadata": {
      "needs_background": "light"
     },
     "output_type": "display_data"
    }
   ],
   "source": [
    "total_volume = Ethereum_data[\"volume\"].sum()\n",
    "\n",
    "year_v_ap = total_volume.plot(kind=\"line\", title=\"Yearly change in Ethereum total volume\")\n",
    "\n",
    "plt.show()"
   ]
  },
  {
   "cell_type": "code",
   "execution_count": 60,
   "metadata": {},
   "outputs": [
    {
     "data": {
      "image/png": "[encoded data removed]",
      "text/plain": [
       "<Figure size 432x288 with 1 Axes>"
      ]
     },
     "metadata": {
      "needs_background": "light"
     },
     "output_type": "display_data"
    }
   ],
   "source": [
    "average_marketcap = Ethereum_data[\"market_cap\"].mean()\n",
    "\n",
    "year_v_ap = average_marketcap.plot(kind=\"line\", title=\"Yearly change in Ethereum average market cap\")\n",
    "\n",
    "plt.show()"
   ]
  },
  {
   "cell_type": "code",
   "execution_count": null,
   "metadata": {},
   "outputs": [],
   "source": [
    "##Dogecoin"
   ]
  },
  {
   "cell_type": "code",
   "execution_count": 62,
   "metadata": {},
   "outputs": [],
   "source": [
    "Dogecoin_data = no_null_crypto_data_1.loc[no_null_crypto_data_1[\"crypto_name\"] == \"Dogecoin\"]\n",
    "\n",
    "Dogecoin_data = Dogecoin_data.groupby(\"trade_year\")"
   ]
  },
  {
   "cell_type": "code",
   "execution_count": 63,
   "metadata": {},
   "outputs": [
    {
     "data": {
      "image/png": "[encoded data removed]",
      "text/plain": [
       "<Figure size 432x288 with 1 Axes>"
      ]
     },
     "metadata": {
      "needs_background": "light"
     },
     "output_type": "display_data"
    }
   ],
   "source": [
    "\n",
    "average_price = Dogecoin_data[\"price_usd\"].mean()\n",
    "\n",
    "year_v_ap = average_price.plot(kind=\"line\", title=\"Yearly change in Dogecoin average price (USD)\")\n",
    "\n",
    "plt.show()"
   ]
  },
  {
   "cell_type": "code",
   "execution_count": 70,
   "metadata": {},
   "outputs": [
    {
     "data": {
      "image/png": "[encoded data removed]",
      "text/plain": [
       "<Figure size 432x288 with 1 Axes>"
      ]
     },
     "metadata": {
      "needs_background": "light"
     },
     "output_type": "display_data"
    }
   ],
   "source": [
    "total_volume = Dogecoin_data[\"volume\"].sum()\n",
    "\n",
    "year_v_ap = total_volume.plot(kind=\"line\", title=\"Yearly change in Dogecoin total volume\")\n",
    "\n",
    "plt.show()"
   ]
  },
  {
   "cell_type": "code",
   "execution_count": 66,
   "metadata": {},
   "outputs": [
    {
     "data": {
      "image/png": "[encoded data removed]",
      "text/plain": [
       "<Figure size 432x288 with 1 Axes>"
      ]
     },
     "metadata": {
      "needs_background": "light"
     },
     "output_type": "display_data"
    }
   ],
   "source": [
    "average_marketcap = Dogecoin_data[\"market_cap\"].mean()\n",
    "\n",
    "year_v_ap = average_marketcap.plot(kind=\"line\", title=\"Yearly change in Dogecoin average market cap\")\n",
    "\n",
    "plt.show()"
   ]
  },
  {
   "cell_type": "code",
   "execution_count": null,
   "metadata": {},
   "outputs": [],
   "source": [
    "#stellar"
   ]
  },
  {
   "cell_type": "code",
   "execution_count": 71,
   "metadata": {},
   "outputs": [],
   "source": [
    "Stellar_data = no_null_crypto_data_1.loc[no_null_crypto_data_1[\"crypto_name\"] == \"Stellar\"]\n",
    "Stellar_data = Stellar_data.groupby(\"trade_year\")"
   ]
  },
  {
   "cell_type": "code",
   "execution_count": 72,
   "metadata": {},
   "outputs": [
    {
     "data": {
      "image/png": "[encoded data removed]",
      "text/plain": [
       "<Figure size 432x288 with 1 Axes>"
      ]
     },
     "metadata": {
      "needs_background": "light"
     },
     "output_type": "display_data"
    }
   ],
   "source": [
    "average_price = Stellar_data[\"price_usd\"].mean()\n",
    "\n",
    "year_v_ap = average_price.plot(kind=\"line\", title=\"Yearly change in Stellar average price (USD)\")\n",
    "\n",
    "plt.show()"
   ]
  },
  {
   "cell_type": "code",
   "execution_count": 73,
   "metadata": {},
   "outputs": [
    {
     "data": {
      "image/png": "[encoded data removed]",
      "text/plain": [
       "<Figure size 432x288 with 1 Axes>"
      ]
     },
     "metadata": {
      "needs_background": "light"
     },
     "output_type": "display_data"
    }
   ],
   "source": [
    "total_volume = Stellar_data[\"volume\"].sum()\n",
    "\n",
    "year_v_ap = total_volume.plot(kind=\"line\", title=\"Yearly change in Stellar total volume\")\n",
    "\n",
    "plt.show()"
   ]
  },
  {
   "cell_type": "code",
   "execution_count": 74,
   "metadata": {},
   "outputs": [
    {
     "data": {
      "image/png": "[encoded data removed]",
      "text/plain": [
       "<Figure size 432x288 with 1 Axes>"
      ]
     },
     "metadata": {
      "needs_background": "light"
     },
     "output_type": "display_data"
    }
   ],
   "source": [
    "average_marketcap = Stellar_data[\"market_cap\"].mean()\n",
    "\n",
    "year_v_ap = average_marketcap.plot(kind=\"line\", title=\"Yearly change in Stellar average market cap\")\n",
    "\n",
    "plt.show()"
   ]
  }
 ],
 "metadata": {
  "interpreter": {
   "hash": "5a6d3a6ea045f4159151e40bdd464dd4347ee3b9adb90ae7da6c694cb4f29b90"
  },
  "kernelspec": {
   "display_name": "Python 3",
   "language": "python",
   "name": "python3"
  },
  "language_info": {
   "codemirror_mode": {
    "name": "ipython",
    "version": 3
   },
   "file_extension": ".py",
   "mimetype": "text/x-python",
   "name": "python",
   "nbconvert_exporter": "python",
   "pygments_lexer": "ipython3",
   "version": "3.8.8"
  }
 },
 "nbformat": 4,
 "nbformat_minor": 4
}
